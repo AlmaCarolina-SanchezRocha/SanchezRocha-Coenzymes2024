{
 "cells": [
  {
   "cell_type": "markdown",
   "metadata": {},
   "source": [
    "# Retrieving cofactor-protein interatomic interactions through PDBe API\n",
    "\n",
    "This repository contains a Jupyter Notebook to query and analyze cofactor information from the Protein Data Bank (PDB) API.\n",
    "\n",
    "**Quick start**  \n",
    "1. Install dependencies: `pip install -r requirements.txt`  \n",
    "2. Open the notebook: `jupyter lab` or `jupyter notebook`  \n",
    "3. Run cells top-to-bottom.\n",
    "\n",
    "**What this notebook does**  \n",
    "- Queries the PDBe REST/JSON API to retrieve structural and annotation data.\n",
    "- Assigns interatomic cofactor-protein interactions to each PDB entry from every coenzyme class.\n",
    "- Distinguish between side chain or backbone amino acid interactions.\n",
    "- Generates and saves clean, structured CSV files for downstream analysis.\n"
   ]
  },
  {
   "cell_type": "code",
   "execution_count": 20,
   "metadata": {},
   "outputs": [],
   "source": [
    "import pandas as pd\n",
    "import numpy as np\n",
    "import requests\n",
    "import csv\n",
    "import matplotlib.pyplot as plt\n",
    "from IPython.display import SVG, display\n",
    "from pprint import pprint\n",
    "import sys\n",
    "sys.path.insert(0,'..')\n",
    "#python_modules are adopted from PDBe API jupyter notebooks\n",
    "from api_modules import run_sequence_search, explode_dataset, get_ligand_site_data, run_search, pandas_dataset, pandas_count, pandas_plot, pandas_plot_multi_groupby \n"
   ]
  },
  {
   "cell_type": "markdown",
   "metadata": {},
   "source": [
    "## Get bound molecule codes\n"
   ]
  },
  {
   "cell_type": "code",
   "execution_count": null,
   "metadata": {},
   "outputs": [],
   "source": [
    "def get_bound_molecules(pdbId):\n",
    "    URL_base = \"https://www.ebi.ac.uk/pdbe/graph-api/pdb/bound_molecules\"\n",
    "    query = URL_base + \"/\" + pdbId\n",
    "    response = requests.get(query)\n",
    "    if response.status_code == 200:\n",
    "        return response.json()\n",
    "    else:\n",
    "        print(\"No data available\")\n",
    "        return None\n",
    "\n",
    "\n",
    "def save_pdb_chain_auth(pdbId, filename):\n",
    "    try:\n",
    "        response = get_bound_molecules(pdbId)\n",
    "        with open(filename, \"a\") as file:\n",
    "            for bm in response[pdbId]:\n",
    "                for ligand in bm[\"composition\"][\"ligands\"]:\n",
    "                    print(pdbId, ligand[\"chain_id\"], ligand[\"author_residue_number\"], ligand[\"chem_comp_id\"], ligand[\"entity\"], sep=\",\", file=file)\n",
    "    except TypeError:\n",
    "        print(\"bad pdb code\")\n",
    "    return None\n",
    "\n",
    "\n",
    "def iterate_list1(my_list):\n",
    "    for pdbId in pdb_list:\n",
    "        save_pdb_chain_auth(pdbId, \"cofmapping.csv\")\n",
    "        \n",
    "iterate_list1(pdb_list)\n",
    "    "
   ]
  },
  {
   "cell_type": "code",
   "execution_count": null,
   "metadata": {},
   "outputs": [],
   "source": [
    "#Include the PDB code list per each coenzyme class, e.g.: Coenzyme_B\n",
    "pdb_list = ['1hbo, '3m30, '5g0r, '5n2a, '1hbm, '1e6v, '1hbu, '1mro, '5a8k, '5n28, '3m2u, '5a0y, '5a8w, '1e6y, '1hbn, '5odh, '5odr, '3m1v, '3m2r, '3m2v, '3pot, '3sqg, '3m32, '5a8r, '5n1q']"
   ]
  },
  {
   "cell_type": "code",
   "execution_count": null,
   "metadata": {},
   "outputs": [],
   "source": [
    "# Filter those chem_comp_id that are cofactors. To preserve all lines containing the complete list of 453 cofactors associated IDs\n",
    "my_file_name = \"cofmapping.csv\"\n",
    "cleaned_file = \"cofmapping_cofactors.csv\"\n",
    "\n",
    "save_words = ['ASC', 'F43', 'M43', 'MDO', 'PNS', '0WD', '1DG', '3AA', '3CD', '5J8', '6V0', '80F', '8ID', 'A3D', 'AP0', 'CNA', 'CND', 'DG1', 'DN4', 'DND', 'DQV', 'EAD', 'ENA', 'LNC', 'N01', 'NA0', 'NAD', 'NAE', 'NAI', 'NAJ', 'NAP', 'NAQ', 'NAX', 'NBD', 'NBP', 'NDA', 'NDC', 'NDE', 'NDO', 'NDP', 'NHD', 'NHO', 'NJP', 'NPW', 'ODP', 'P1H', 'PAD', 'SAD', 'SAE', 'SND', 'TAD', 'TAP', 'TDT', 'TXD', 'TXE', 'TXP', 'ZID', '18W', '29P', 'DPM', '2MD', 'MCN', 'MGD', 'MSS', 'MTE', 'MTQ', 'MTV', 'PCD', 'PGD', 'XAX', 'B12', 'B1M', 'CNC', 'COB', 'COY', '6FA', 'FA8', 'FAA', 'FAB', 'FAD', 'FAE', 'FAO', 'FAS', 'FCG', 'FDA', 'FED', 'FNK', 'FSH', 'P5F', 'RFL', 'SFD', '1YJ', 'C2F', 'DHF', 'FFO', 'FOL', 'FON', 'FOZ', 'THF', 'THG', 'THH', '01A', '01K', '0ET', '1C4', '1CV', '1CZ', '1HA', '1VU', '1XE', '2CP', '2NE', '3CP', '3H9', '3HC', '3VV', '4CA', '4CO', '52O', '7L1', '8JD', '8Z2', '94Q', 'ACO', 'AMX', 'BCA', 'BCO', 'BSJ', 'BYC', 'CA3', 'CA5', 'CA6', 'CA8', 'CAA', 'CAJ', 'CAO', 'CIC', 'CMC', 'CMX', 'CO6', 'CO7', 'CO8', 'COA', 'COD', 'COF', 'COO', 'COT', 'COW', 'COZ', 'DCA', 'DCC', 'FAM', 'FCX', 'FRE', 'FYN', 'GRA', 'HAX', 'HMG', 'HSC', 'HXC', 'IVC', 'MCA', 'MCD', 'MDE', 'MLC', 'MYA', 'NHM', 'NHQ', 'NHW', 'NMX', 'OXK', 'Q5B', 'QHD', 'RMW', 'S0N', 'SCA', 'SCD', 'SCO', 'SDX', 'SOP', 'T1G', 'TC6', 'TUY', 'UT7', 'UTA', 'WCA', 'YNC', 'ZOZ', 'SHT', 'TP7', 'TPZ', 'TXZ', 'XP8', 'XP9', '4LS', '4LU', '9O9', '9P3', '9PF', '9Q6', '9QF', 'F7F', 'FMN', 'FNR', 'FNS', 'IRF', 'RBF', 'MQ7', 'COM', '1FH', '2FH', '522', '6HE', '76R', '7HE', 'BW9', 'CCH', 'COH', 'CV0', 'DDH', 'DHE', 'F0L', 'F0X', 'FDD', 'FDE', 'FEC', 'FMI', 'H02', 'HAS', 'HDD', 'HDE', 'HEA', 'HEB', 'HEC', 'HEM', 'HEO', 'HEV', 'HIF', 'HP5', 'ISW', 'MH0', 'MI9', 'MNH', 'MNR', 'MP1', 'N7H', 'OBV', 'PP9', 'SH0', 'SIR', 'SRM', 'UFE', 'VEA', 'VER', 'VOV', 'ZEM', 'ZNH', '4AB', '7AP', 'BHS', 'BIO', 'H2B', 'H4B', 'HBI', 'WSD', 'PQQ', 'BC4', 'BTI', 'BTN', 'BYT', 'DTB', 'Y7Y', 'LPA', 'LPB', '4YP', '9BL', 'AT5', 'DBT', 'RQX', 'UHD', 'UQ1', 'UQ2', 'UQ5', 'UQ6', '0HG', '0HH', '1JO', '1JP', '1R4', '3GC', '48T', '5AU', '6SG', 'ABY', 'AHE', 'ATA', 'BOB', 'BWS', 'BYG', 'EPY', 'ESG', 'GBI', 'GBP', 'GBX', 'GDN', 'GDS', 'GF5', 'GGC', 'GIP', 'GNB', 'GPR', 'GPS', 'GS8', 'GSB', 'GSF', 'GSH', 'GSM', 'GSN', 'GSO',\n",
    "'GTB', 'GTD', 'GTS', 'GTX', 'GTY', 'GVX', 'HAG', 'HGS', 'IBG', 'ICY', 'JM2', 'JM5', 'JM7', 'L9X', 'LEE', 'LZ6', 'P9H', 'RGE', 'TGG', 'TS5', 'VDW', 'VWW', 'ZBF', '0AF', 'TOQ', 'TQQ', 'TRQ', '0UM', '0XU', '0Y0', '0Y1', '0Y2', '36A', '37H', '4IK', '62X', '6D6', '6NR', '76H', '76J', '76K', '76L', '76M', 'AN6', 'EEM', 'K15', 'P2J', 'SA8', 'SAH', 'SAM', 'SFG', 'SMM', 'SX0', 'TT8', '1TP', '1U0', '2TP', '5GY', '5SR', '8EF', '8EL', '8EO', '8FL', '8ML', '8N9', '8PA', 'A5X', 'D7K', 'EN0', 'HTL', 'M6T', 'N1T', 'N3T', 'NDQ', 'O2T', 'QSP', 'R1T', 'S1T', 'T5X', 'T6F', 'TD5', 'TD6', 'TD7', 'TD8', 'TD9', 'TDK', 'TDL', 'TDM', 'TDN', 'TDP', 'TDW', 'THD', 'THV', 'THW', 'THY', 'TOG', 'TOI', 'TP8', 'TPP', 'TPU', 'TPW', 'TZD', 'WWF', 'ZP1', 'EM2', 'MPL', 'NOP', 'NPL', 'PDP', 'PLP', 'PLR', 'PMP', 'PXP', 'PZP', 'UAH', 'X04',\n",
    "'1TY', '2TY', '3TY', '4HL', 'AGQ', 'ESB', 'G27', 'HCC', 'P2Q', 'P3Q', 'PAQ', 'T0I', 'TPQ', 'TTS', 'TYQ', 'TYY', 'YPZ', 'ATP']\n",
    "\n",
    "with open(my_file_name, 'r', newline='') as infile, \\\n",
    "     open(cleaned_file, 'w',newline='') as outfile:\n",
    "    writer = csv.writer(outfile)\n",
    "    for line in csv.reader(infile, delimiter=','):\n",
    "        if any(save_word in element\n",
    "                      for element in line\n",
    "                      for save_word in save_words):\n",
    "            writer.writerow(line)"
   ]
  },
  {
   "cell_type": "markdown",
   "metadata": {},
   "source": [
    "## Get PDB bound ligand interatomic interactions \n"
   ]
  },
  {
   "cell_type": "code",
   "execution_count": null,
   "metadata": {},
   "outputs": [],
   "source": [
    "# settings for PDBe API\n",
    "base_url = \"https://www.ebi.ac.uk/pdbe/\"  # the beginning of the URL for PDBe's API.\n",
    "search_url = base_url + 'search/pdb/select?'  # the rest of the URL used for PDBe's search API.\n",
    "\n",
    "pdbe_kb_interacting_residues_api = base_url + \"graph-api/uniprot/ligand_sites/\"\n",
    "pdbe_kb_api_uniprot_base_url = base_url + \"graph-api/uniprot/\"\n",
    "\n",
    "pdbe_kb_api_pdb_base_url = base_url + \"graph-api/pdb/\"\n",
    "pdbe_kb_api_bound_ligand_interactions = base_url + \"graph-api/pdb/bound_ligand_interactions/\" \n",
    "\n",
    "pdbe_sifts_mappings_api_url = base_url + \"api/\"\n",
    "\n",
    "\n",
    "def get_ligand_site_url():\n",
    "    return pdbe_kb_api_uniprot_base_url + \"ligand_sites/\"\n",
    "\n",
    "\n",
    "def get_interaction_site_url():\n",
    "    return pdbe_kb_api_uniprot_base_url + \"interface_residues/\"\n",
    "\n",
    "\n",
    "def get_url_with_accession(url, accession):\n",
    "    url = url + accession\n",
    "    ret = get_url(url)\n",
    "    return ret.get(accession, {})\n",
    "\n",
    "\n",
    "def get_url(url):\n",
    "    \"\"\"\n",
    "    Makes a request to a URL. Returns a JSON of the results\n",
    "    :param str url:\n",
    "    :return dict:\n",
    "    \"\"\"\n",
    "    response = requests.get(url)\n",
    "\n",
    "    if response.status_code == 200:\n",
    "        return response.json()\n",
    "    else:\n",
    "        print(\"[No data retrieved - %s] %s\" % (response.status_code, response.text))\n",
    "\n",
    "    return {}\n",
    "\n",
    "\n",
    "def get_bound_ligand_interactions_url():\n",
    "    return pdbe_kb_api_pdb_base_url + \"bound_ligand_interactions/\" \n",
    "\n",
    "\n",
    "def get_sifts_mappings_url():\n",
    "    return pdbe_sifts_mappings_api_url + \"mappings/\"\n",
    "\n",
    "\n",
    "def bound_ligand_interactions(pdbId, chain, seqId, chem_comp_id, entity):\n",
    "    url =  get_bound_ligand_interactions_url() + pdbId + \"/\" + chain + \"/\" + seqId\n",
    "    print(url)\n",
    "    data = get_url(url=url)\n",
    "    data_to_ret = []\n",
    "    for data_pdb_info in data:\n",
    "        accession_data = data.get(data_pdb_info)\n",
    "        for row in accession_data:\n",
    "            chem_comp_id_api_i = row.get('ligand', {}).get('chem_comp_id')\n",
    "            chain_id_api_i = row.get('ligand', {}).get('chain_id')\n",
    "            author_residue_number_api_i = row.get('ligand', {}).get('author_residue_number')\n",
    "            for interaction in row.get('interactions', []):\n",
    "                interaction['amino_acid'] = interaction.get('end', {}).get('chem_comp_id')\n",
    "                interaction['chain_id'] = interaction.get('end', {}).get('chain_id')\n",
    "                interaction['sequence_residue'] = interaction.get('end', {}).get('author_residue_number')\n",
    "                interaction['atom_names_features'] = interaction.get('end', {}).get('atom_names')\n",
    "                #interaction['interaction_types'] = interaction.get('interaction_details')\n",
    "                interaction['distance_A'] = interaction.get('distance')\n",
    "                interaction['pdb_id'] = pdbId\n",
    "                interaction['chain_request'] = chain\n",
    "                interaction['auth_res_num_request'] = seqId\n",
    "                interaction['chem_comp_id_api'] = chem_comp_id_api_i\n",
    "                interaction['chain_id_api'] = chain_id_api_i\n",
    "                interaction['author_residue_number_api'] = author_residue_number_api_i\n",
    "                #this line for retrieving the entity:\n",
    "                interaction['entity_b'] = entity \n",
    "                _ = interaction.pop(\"end\")\n",
    "                _ = interaction.pop(\"distance\")\n",
    "                data_to_ret.append(interaction)\n",
    "    return data_to_ret\n",
    "\n",
    "\n",
    "def get_interactions_tidy(filename):\n",
    "    with open(filename) as csv_file:\n",
    "        csv_reader = csv.reader(csv_file, delimiter=\",\")\n",
    "        mylist = []   \n",
    "        for row in csv_reader:\n",
    "            pdbId, chain_Id, author_residue_number, chem_comp_id, entity  = row  \n",
    "            mylist.extend(bound_ligand_interactions(pdbId, chain_Id, author_residue_number, chem_comp_id, entity))  \n",
    "    df = explode_dataset(mylist)\n",
    "    return df  "
   ]
  },
  {
   "cell_type": "code",
   "execution_count": null,
   "metadata": {},
   "outputs": [],
   "source": [
    "results = get_interactions_tidy(\"cofmapping_cofactors.csv\")\n",
    "results.to_csv(\"cofmapping_cofactors_results.csv\")"
   ]
  },
  {
   "cell_type": "markdown",
   "metadata": {},
   "source": [
    " ## Get ligand info for mappings"
   ]
  },
  {
   "cell_type": "code",
   "execution_count": null,
   "metadata": {},
   "outputs": [],
   "source": [
    "def get_ligands(pdbId):\n",
    "    URL_base = \"https://www.ebi.ac.uk/pdbe/api/pdb/entry/ligand_monomers\"\n",
    "    query = URL_base + \"/\" + pdbId\n",
    "    response = requests.get(query)\n",
    "    if response.status_code == 200:\n",
    "        return response.json()\n",
    "    else:\n",
    "        print(\"No data available\")\n",
    "        return None\n",
    "\n",
    "\n",
    "def save_ligands(pdbId, filename):\n",
    "    response = get_ligands(pdbId)\n",
    "    with open(filename, \"a\") as file:\n",
    "        for ligand in response[pdbId]:\n",
    "            print(pdbId, ligand[\"entity_id\"], ligand[\"author_residue_number\"], ligand[\"chain_id\"], ligand[\"chem_comp_id\"], sep=\",\", file=file)\n",
    "    return None\n",
    "\n",
    "\n",
    "def iterate_list_save_ligands(my_list):\n",
    "    for pdbId in pdb_list:\n",
    "        save_ligands(pdbId, \"get_ligands_list.csv\")\n",
    "            "
   ]
  },
  {
   "cell_type": "code",
   "execution_count": null,
   "metadata": {},
   "outputs": [],
   "source": [
    "iterate_list_save_ligands(pdb_list)"
   ]
  },
  {
   "cell_type": "code",
   "execution_count": null,
   "metadata": {},
   "outputs": [],
   "source": [
    "# To preserve all lines containing the complete list of 453 cofactors associated IDs:\n",
    "my_file_name = \"get_ligands_list.csv\"\n",
    "cleaned_file = \"get_ligands_list_cofactors.csv\"\n",
    "save_words = ['ASC', 'F43', 'M43', 'MDO', 'PNS', '0WD', '1DG', '3AA', '3CD', '5J8', '6V0', '80F', '8ID', 'A3D', 'AP0', 'CNA', 'CND', 'DG1', 'DN4', 'DND', 'DQV', 'EAD', 'ENA', 'LNC', 'N01', 'NA0', 'NAD', 'NAE', 'NAI', 'NAJ', 'NAP', 'NAQ', 'NAX', 'NBD', 'NBP', 'NDA', 'NDC', 'NDE', 'NDO', 'NDP', 'NHD', 'NHO', 'NJP', 'NPW', 'ODP', 'P1H', 'PAD', 'SAD', 'SAE', 'SND', 'TAD', 'TAP', 'TDT', 'TXD', 'TXE', 'TXP', 'ZID', '18W', '29P', 'DPM', '2MD', 'MCN', 'MGD', 'MSS', 'MTE', 'MTQ', 'MTV', 'PCD', 'PGD', 'XAX', 'B12', 'B1M', 'CNC', 'COB', 'COY', '6FA', 'FA8', 'FAA', 'FAB', 'FAD', 'FAE', 'FAO', 'FAS', 'FCG', 'FDA', 'FED', 'FNK', 'FSH', 'P5F', 'RFL', 'SFD', '1YJ', 'C2F', 'DHF', 'FFO', 'FOL', 'FON', 'FOZ', 'THF', 'THG', 'THH', '01A', '01K', '0ET', '1C4', '1CV', '1CZ', '1HA', '1VU', '1XE', '2CP', '2NE', '3CP', '3H9', '3HC', '3VV', '4CA', '4CO', '52O', '7L1', '8JD', '8Z2', '94Q', 'ACO', 'AMX', 'BCA', 'BCO', 'BSJ', 'BYC', 'CA3', 'CA5', 'CA6', 'CA8', 'CAA', 'CAJ', 'CAO', 'CIC', 'CMC', 'CMX', 'CO6', 'CO7', 'CO8', 'COA', 'COD', 'COF', 'COO', 'COT', 'COW', 'COZ', 'DCA', 'DCC', 'FAM', 'FCX', 'FRE', 'FYN', 'GRA', 'HAX', 'HMG', 'HSC', 'HXC', 'IVC', 'MCA', 'MCD', 'MDE', 'MLC', 'MYA', 'NHM', 'NHQ', 'NHW', 'NMX', 'OXK', 'Q5B', 'QHD', 'RMW', 'S0N', 'SCA', 'SCD', 'SCO', 'SDX', 'SOP', 'T1G', 'TC6', 'TUY', 'UT7', 'UTA', 'WCA', 'YNC', 'ZOZ', 'SHT', 'TP7', 'TPZ', 'TXZ', 'XP8', 'XP9', '4LS', '4LU', '9O9', '9P3', '9PF', '9Q6', '9QF', 'F7F', 'FMN', 'FNR', 'FNS', 'IRF', 'RBF', 'MQ7', 'COM', '1FH', '2FH', '522', '6HE', '76R', '7HE', 'BW9', 'CCH', 'COH', 'CV0', 'DDH', 'DHE', 'F0L', 'F0X', 'FDD', 'FDE', 'FEC', 'FMI', 'H02', 'HAS', 'HDD', 'HDE', 'HEA', 'HEB', 'HEC', 'HEM', 'HEO', 'HEV', 'HIF', 'HP5', 'ISW', 'MH0', 'MI9', 'MNH', 'MNR', 'MP1', 'N7H', 'OBV', 'PP9', 'SH0', 'SIR', 'SRM', 'UFE', 'VEA', 'VER', 'VOV', 'ZEM', 'ZNH', '4AB', '7AP', 'BHS', 'BIO', 'H2B', 'H4B', 'HBI', 'WSD', 'PQQ', 'BC4', 'BTI', 'BTN', 'BYT', 'DTB', 'Y7Y', 'LPA', 'LPB', '4YP', '9BL', 'AT5', 'DBT', 'RQX', 'UHD', 'UQ1', 'UQ2', 'UQ5', 'UQ6', '0HG', '0HH', '1JO', '1JP', '1R4', '3GC', '48T', '5AU', '6SG', 'ABY', 'AHE', 'ATA', 'BOB', 'BWS', 'BYG', 'EPY', 'ESG', 'GBI', 'GBP', 'GBX', 'GDN', 'GDS', 'GF5', 'GGC', 'GIP', 'GNB', 'GPR', 'GPS', 'GS8', 'GSB', 'GSF', 'GSH', 'GSM', 'GSN', 'GSO',\n",
    "'GTB', 'GTD', 'GTS', 'GTX', 'GTY', 'GVX', 'HAG', 'HGS', 'IBG', 'ICY', 'JM2', 'JM5', 'JM7', 'L9X', 'LEE', 'LZ6', 'P9H', 'RGE', 'TGG', 'TS5', 'VDW', 'VWW', 'ZBF', '0AF', 'TOQ', 'TQQ', 'TRQ', '0UM', '0XU', '0Y0', '0Y1', '0Y2', '36A', '37H', '4IK', '62X', '6D6', '6NR', '76H', '76J', '76K', '76L', '76M', 'AN6', 'EEM', 'K15', 'P2J', 'SA8', 'SAH', 'SAM', 'SFG', 'SMM', 'SX0', 'TT8', '1TP', '1U0', '2TP', '5GY', '5SR', '8EF', '8EL', '8EO', '8FL', '8ML', '8N9', '8PA', 'A5X', 'D7K', 'EN0', 'HTL', 'M6T', 'N1T', 'N3T', 'NDQ', 'O2T', 'QSP', 'R1T', 'S1T', 'T5X', 'T6F', 'TD5', 'TD6', 'TD7', 'TD8', 'TD9', 'TDK', 'TDL', 'TDM', 'TDN', 'TDP', 'TDW', 'THD', 'THV', 'THW', 'THY', 'TOG', 'TOI', 'TP8', 'TPP', 'TPU', 'TPW', 'TZD', 'WWF', 'ZP1', 'EM2', 'MPL', 'NOP', 'NPL', 'PDP', 'PLP', 'PLR', 'PMP', 'PXP', 'PZP', 'UAH', 'X04',\n",
    "'1TY', '2TY', '3TY', '4HL', 'AGQ', 'ESB', 'G27', 'HCC', 'P2Q', 'P3Q', 'PAQ', 'T0I', 'TPQ', 'TTS', 'TYQ', 'TYY', 'YPZ', 'ATP']\n",
    "\n",
    "with open(my_file_name, 'r', newline='') as infile, \\\n",
    "     open(cleaned_file, 'w',newline='') as outfile:\n",
    "    writer = csv.writer(outfile)\n",
    "    for line in csv.reader(infile, delimiter=','):\n",
    "        if any(save_word in element\n",
    "                      for element in line\n",
    "                      for save_word in save_words):\n",
    "            writer.writerow(line)"
   ]
  },
  {
   "cell_type": "markdown",
   "metadata": {},
   "source": [
    "## Filter Cofactors"
   ]
  },
  {
   "cell_type": "code",
   "execution_count": null,
   "metadata": {},
   "outputs": [],
   "source": [
    "def get_cofactors(pdbId):\n",
    "    URL_base = \"https://www.ebi.ac.uk/pdbe/api/pdb/entry/cofactor\"\n",
    "    query = URL_base + \"/\" + pdbId\n",
    "    response = requests.get(query)\n",
    "    if response.status_code == 200:\n",
    "        return response.json()\n",
    "    else:\n",
    "        print(\"No data available\")\n",
    "        return None\n",
    "\n",
    "\n",
    "def save_cofactors(pdbId, filename):\n",
    "    try:\n",
    "        response = get_cofactors(pdbId)\n",
    "        with open(filename, \"a\") as file:\n",
    "            for ligand in response[pdbId]:\n",
    "                print(pdbId, ligand[\"entity_id\"], ligand[\"author_residue_number\"], ligand[\"chain_id\"], ligand[\"chem_comp_id\"], ligand[\"class\"], sep=\",\", file=file)\n",
    "    except TypeError:\n",
    "        print(\"badpdbforcofactor\")\n",
    "    return None\n",
    "\n",
    "\n",
    "def iterate_list_save_cofactors(my_list):\n",
    "    for pdbId in pdb_list:\n",
    "        save_cofactors(pdbId, \"get_cofactors_list.csv\")\n",
    " "
   ]
  },
  {
   "cell_type": "code",
   "execution_count": null,
   "metadata": {
    "scrolled": true
   },
   "outputs": [],
   "source": [
    "iterate_list_save_cofactors(pdb_list)"
   ]
  },
  {
   "cell_type": "markdown",
   "metadata": {},
   "source": [
    "## Distinguishing between side chain or backbone amino acid interactions\n",
    "\n",
    "The information on whether this is side chain or backbone (or main chain) interaction is encoded in the assumption that interactions to the backbone of standard and modified amino acids are made through the interactions with the following atom names: \"N\",  \"C\", \"CA\", \"O\".\n"
   ]
  },
  {
   "cell_type": "code",
   "execution_count": null,
   "metadata": {},
   "outputs": [],
   "source": [
    "results.head()"
   ]
  },
  {
   "cell_type": "code",
   "execution_count": null,
   "metadata": {},
   "outputs": [],
   "source": [
    "conditions = [\n",
    "    (results['atom_names_features'] == 'N'), (results['atom_names_features'] == 'C'), (results['atom_names_features'] == 'CA'),\n",
    "    (results['atom_names_features'] == 'O')]\n",
    "choices = ['main_chain', 'main_chain', 'main_chain', 'main_chain']\n",
    "results['chain_atom_type'] = np.select(conditions, choices, default='side_chain')\n",
    "\n",
    "conditions1 = [\n",
    "    (results['amino_acid'] == 'GLY'), (results['amino_acid'] == 'ALA'), (results['amino_acid'] == 'VAL'),\n",
    "    (results['amino_acid'] == 'LEU'), (results['amino_acid'] == 'ILE'), (results['amino_acid'] == 'PRO'), \n",
    "    (results['amino_acid'] == 'THR'), (results['amino_acid'] == 'SER'), (results['amino_acid'] == 'GLU'),\n",
    "    (results['amino_acid'] == 'ASP'), (results['amino_acid'] == 'ARG'), (results['amino_acid'] == 'LYS'),\n",
    "    (results['amino_acid'] == 'HIS'), (results['amino_acid'] == 'PHE'), (results['amino_acid'] == 'TRP'), \n",
    "    (results['amino_acid'] == 'TYR'), (results['amino_acid'] == 'CYS'), (results['amino_acid'] == 'MET'), \n",
    "    (results['amino_acid'] == 'GLN'), (results['amino_acid'] == 'ASN')]\n",
    "choices = ['early_AA', 'early_AA', 'early_AA', 'early_AA', 'early_AA', 'early_AA', 'early_AA',\n",
    "           'early_AA', 'early_AA', 'early_AA', 'late_AA', 'late_AA', 'late_AA', 'late_AA',\n",
    "           'late_AA', 'late_AA', 'late_AA', 'late_AA', 'late_AA', 'late_AA']\n",
    "results['aminoacid_type'] = np.select(conditions1, choices, default='other')\n",
    "results\n",
    "print(results)\n",
    " "
   ]
  },
  {
   "cell_type": "code",
   "execution_count": null,
   "metadata": {},
   "outputs": [],
   "source": [
    "results.to_csv(\"results_api.csv\")\n",
    "results.head()"
   ]
  }
 ],
 "metadata": {
  "kernelspec": {
   "display_name": "Python [conda env:base] *",
   "language": "python",
   "name": "conda-base-py"
  },
  "language_info": {
   "codemirror_mode": {
    "name": "ipython",
    "version": 3
   },
   "file_extension": ".py",
   "mimetype": "text/x-python",
   "name": "python",
   "nbconvert_exporter": "python",
   "pygments_lexer": "ipython3",
   "version": "3.12.7"
  }
 },
 "nbformat": 4,
 "nbformat_minor": 4
}
