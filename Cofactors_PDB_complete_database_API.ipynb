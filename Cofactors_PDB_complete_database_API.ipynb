{
 "cells": [
  {
   "cell_type": "markdown",
   "metadata": {},
   "source": [
    "# Cofactors via PDB API\n",
    "\n",
    "This repository contains a Jupyter Notebook to query and analyze cofactor information from the Protein Data Bank (PDB) API.\n",
    "\n",
    "**Quick start**  \n",
    "1. Install dependencies: `pip install -r requirements.txt`  \n",
    "2. Open the notebook: `jupyter lab` or `jupyter notebook`  \n",
    "3. Run cells top-to-bottom.\n",
    "\n",
    "**What this notebook does**  \n",
    "- Calls the PDB REST/JSON API to retrieve structures and annotations  \n",
    "- Parses ligand/cofactor information  \n",
    "- Aggregates results into tidy tables for downstream analysis  \n",
    "- Saves clean CSV outputs\n",
    "\n",
    "**Reproducibility**  \n",
    "- All parameters are at the top in a single configuration cell.  \n",
    "- All file I/O is confined to a project-relative `data/` directory.  \n",
    "- Randomness is controlled (where applicable) by fixed seeds.\n",
    "\n",
    "> Last updated: 2025-10-18"
   ]
  },
  {
   "cell_type": "markdown",
   "metadata": {},
   "source": [
    "> **Note on provenance**  \n",
    "> This notebook is **based on PDBe API notebooks** and **reuses some helper functions** (adapted here) for PDBe endpoints and data normalization.  \n",
    "> See PDBe resources: https://www.ebi.ac.uk/pdbe/"
   ]
  },
  {
   "cell_type": "code",
   "execution_count": 5,
   "metadata": {},
   "outputs": [],
   "source": [
    "from pathlib import Path\n",
    "import os\n",
    "\n",
    "PROJECT_ROOT = Path(\".\").resolve()\n",
    "DATA_DIR = PROJECT_ROOT / \"data\"\n",
    "OUTPUT_DIR = PROJECT_ROOT / \"outputs\"\n",
    "DATA_DIR.mkdir(exist_ok=True)\n",
    "OUTPUT_DIR.mkdir(exist_ok=True)\n",
    "\n",
    "# Network + API\n",
    "PDB_API_BASE = \"https://data.rcsb.org/rest/v1\"  # adjust if you use a different endpoint\n",
    "REQUEST_TIMEOUT = 30  # seconds\n",
    "RETRY_ATTEMPTS = 3\n",
    "\n",
    "# Random seed for reproducibility (if applicable)\n",
    "SEED = 42"
   ]
  },
  {
   "cell_type": "code",
   "execution_count": 6,
   "metadata": {},
   "outputs": [],
   "source": [
    "# Utilities\n",
    "import time\n",
    "from typing import Any, Dict, Optional, List\n",
    "\n",
    "try:\n",
    "    import requests\n",
    "except ImportError:\n",
    "    raise ImportError(\"Please install 'requests' (pip install requests)\")\n",
    "\n",
    "def http_get(url: str, params: Optional[Dict[str, Any]] = None, timeout: int = REQUEST_TIMEOUT) -> requests.Response:\n",
    "    \"\"\"GET with basic retry.\"\"\"\n",
    "    last_err = None\n",
    "    for attempt in range(1, RETRY_ATTEMPTS + 1):\n",
    "        try:\n",
    "            resp = requests.get(url, params=params, timeout=timeout)\n",
    "            resp.raise_for_status()\n",
    "            return resp\n",
    "        except Exception as e:\n",
    "            last_err = e\n",
    "            if attempt < RETRY_ATTEMPTS:\n",
    "                time.sleep(min(2**attempt, 10))\n",
    "    raise last_err\n",
    "\n",
    "def save_csv(df, path: Path):\n",
    "    path.parent.mkdir(parents=True, exist_ok=True)\n",
    "    df.to_csv(path, index=False)\n",
    "    return path"
   ]
  },
  {
   "cell_type": "markdown",
   "metadata": {},
   "source": [
    "# Finding enzyme cofactors in PDB\n"
   ]
  },
  {
   "cell_type": "markdown",
   "metadata": {},
   "source": [
    "## i) Define the list of cofactors\n",
    "\n",
    "* There are 27 classes of cofactors (Mukhopadhyay et al., 2019. doi: 10.1093/bioinformatics/btz115).\n"
   ]
  },
  {
   "cell_type": "markdown",
   "metadata": {},
   "source": [
    "(https://www.ebi.ac.uk/pdbe/api/doc/compounds.html)\n",
    "https://www.ebi.ac.uk/pdbe/api/pdb/compound/cofactors\n"
   ]
  },
  {
   "cell_type": "markdown",
   "metadata": {},
   "source": [
    "# ii) Find PDB entries containing a specific ligand (cofactor)\n"
   ]
  },
  {
   "cell_type": "markdown",
   "metadata": {},
   "source": [
    "## 1) Making imports and setting variables (1_basics.ipynb)\n",
    "\n",
    "First, we import some packages that we will use, and set some variables.\n",
    "\n",
    "Note: Full list of valid URLs is available from http://www.ebi.ac.uk/pdbe/api/doc/\n"
   ]
  },
  {
   "cell_type": "code",
   "execution_count": 12,
   "metadata": {},
   "outputs": [],
   "source": [
    "# Query the PDBe API\n",
    "import re\n",
    "import requests\n",
    "\n",
    "base_url = \"https://www.ebi.ac.uk/pdbe/\"\n",
    "\n",
    "api_base = base_url + \"api/\"\n",
    "\n",
    "summary_url = api_base + 'pdb/entry/summary/'\n",
    "\n",
    "binding_url = api_base + 'pdb/entry/binding_sites/'"
   ]
  },
  {
   "cell_type": "markdown",
   "metadata": {},
   "source": [
    "https://www.ebi.ac.uk/pdbe/api/pdb/compound/cofactors\n",
    "This call provides a summary of the cofactor annotation in the PDB.\n"
   ]
  },
  {
   "cell_type": "code",
   "execution_count": 14,
   "metadata": {},
   "outputs": [],
   "source": [
    "def get_cofactor_information(cof_api):\n",
    "    URL_base = \"https://www.ebi.ac.uk/pdbe/api/pdb/compound/cofactors\"\n",
    "    query = URL_base\n",
    "    response = requests.get(query)\n",
    "    if response.status_code == 200:\n",
    "        return response.json()\n",
    "    else:\n",
    "        print(\"No data available\")\n",
    "        return None"
   ]
  },
  {
   "cell_type": "code",
   "execution_count": 15,
   "metadata": {},
   "outputs": [],
   "source": [
    "# Summary: Reusable utilities for the workflow.\n",
    "def retrieve_cofactors_PDB(cof_api):\n",
    "    response = get_cofactor_information(cofactorclass)\n",
    "    return [cofactorclass.keys]\n",
    "    "
   ]
  },
  {
   "cell_type": "code",
   "execution_count": 16,
   "metadata": {},
   "outputs": [],
   "source": [
    "def save_cofactor_information(cofactorclass):\n",
    "    response = get_cofactor_information(cofactorclass)\n",
    "    for ci in response[cofactorclass]:\n",
    "        print(cofactorclass, ci[\"cofactors\"])\n",
    "    return None\n"
   ]
  },
  {
   "cell_type": "code",
   "execution_count": 17,
   "metadata": {},
   "outputs": [],
   "source": [
    "def save_cofactor_information1(cofactorclass):\n",
    "    response = get_cofactor_information(cofactorclass)\n",
    "    for ci in response[cofactorclass]:\n",
    "        return [cofactorclass, ci[\"cofactors\"]]"
   ]
  },
  {
   "cell_type": "code",
   "execution_count": 19,
   "metadata": {},
   "outputs": [],
   "source": [
    "cof_list = [ \"Ascorbic acid\", \"Factor F430\", \"MIO\", \"Phosphopantetheine\", \"Nicotinamide-adenine dinucleotide\", \"Dipyrromethane\",  \"Molybdopterin\", \"Adenosylcobalamin\", \"Flavin adenine dinucleotide\", \"Tetrahydrofolic acid\", \"Coenzyme A\", \"Coenzyme B\", \"Flavin Mononucleotide\", \"Menaquinone\",  \"Coenzyme M\", \"Heme\", \"Biopterin\", \"Pyrroloquinoline Quinone\", \"Biotin\", \"Lipoic acid\", \"Ubiquinone\", \"Glutathione\", \"Orthoquinone residues (LTQ, TTQ, CTQ)\", \"S-adenosylmethionine\",  \"Thiamine diphosphate\", \"Pyridoxal 5'-phosphate\", \"Topaquinone\"]"
   ]
  },
  {
   "cell_type": "code",
   "execution_count": 20,
   "metadata": {},
   "outputs": [
    {
     "name": "stdout",
     "output_type": "stream",
     "text": [
      "['Ascorbic acid', ['ASC']]\n",
      "['Factor F430', ['F43', 'M43']]\n",
      "['MIO', ['MDO']]\n",
      "['Phosphopantetheine', ['PNS']]\n",
      "['Nicotinamide-adenine dinucleotide', ['0WD', '1DG', '3AA', '3CD', '6V0', '8ID', 'A3D', 'AP0', 'CND', 'DG1', 'DN4', 'EAD', 'ENA', 'LNC', 'N01', 'NA0', 'NAD', 'NAE', 'NAI', 'NAJ', 'NAP', 'NAQ', 'NAX', 'NBD', 'NBP', 'NDC', 'NDE', 'NDO', 'NDP', 'NHD', 'NPW', 'ODP', 'P1H', 'PAD', 'SAD', 'SAE', 'SND', 'TAD', 'TAP', 'TDT', 'TXD', 'TXE', 'TXP', 'ZID']]\n",
      "['Dipyrromethane', ['18W', '29P', 'DPM']]\n",
      "['Molybdopterin', ['2MD', 'MCN', 'MGD', 'MSS', 'MTE', 'MTQ', 'MTV', 'PCD', 'XAX']]\n",
      "['Adenosylcobalamin', ['B12', 'CNC', 'COB', 'COY']]\n",
      "['Flavin adenine dinucleotide', ['6FA', 'FA8', 'FAA', 'FAB', 'FAD', 'FAE', 'FAO', 'FAS', 'FCG', 'FDA', 'FED', 'FSH', 'P5F', 'RFL', 'SFD']]\n",
      "['Tetrahydrofolic acid', ['1YJ', 'C2F', 'FFO', 'FON', 'FOZ', 'THF', 'THG', 'THH']]\n",
      "['Coenzyme A', ['01A', '01K', '0ET', '1C4', '1CV', '1CZ', '1HA', '1VU', '1XE', '2CP', '2NE', '3CP', '3H9', '3HC', '4CA', '4CO', '8JD', '8Z2', 'ACO', 'AMX', 'BCA', 'BCO', 'BSJ', 'BYC', 'CA3', 'CA5', 'CA6', 'CA8', 'CAA', 'CAJ', 'CAO', 'CIC', 'CMC', 'CMX', 'CO6', 'CO8', 'COA', 'COD', 'COF', 'COO', 'COT', 'COW', 'COZ', 'DCA', 'DCC', 'FAM', 'FCX', 'FRE', 'FYN', 'GRA', 'HAX', 'HMG', 'HSC', 'HXC', 'MCA', 'MCD', 'MDE', 'MLC', 'MYA', 'NHM', 'NHQ', 'NHW', 'NMX', 'OXK', 'S0N', 'SCA', 'SCD', 'SCO', 'SDX', 'SOP', 'T1G', 'TC6', 'WCA', 'YNC', 'ZOZ']]\n",
      "['Coenzyme B', ['SHT', 'TP7', 'TPZ', 'TXZ', 'XP8', 'XP9']]\n",
      "['Flavin Mononucleotide', ['4LS', '4LU', 'FMN', 'FNR', 'FNS', 'IRF', 'RBF']]\n",
      "['Menaquinone', ['MQ7']]\n",
      "['Coenzyme M', ['COM']]\n",
      "['Heme', ['6HE', '7HE', 'CCH', 'COH', 'DDH', 'DHE', 'FDE', 'FMI', 'HAS', 'HDD', 'HDE', 'HEA', 'HEB', 'HEC', 'HEM', 'HIF', 'ISW', 'MH0', 'MNH', 'MNR', 'PP9', 'SH0', 'SRM', 'ZEM', 'ZNH']]\n",
      "['Biopterin', ['4AB', '7AP', 'BHS', 'BIO', 'H2B', 'H4B', 'HBI', 'WSD']]\n",
      "['Pyrroloquinoline Quinone', ['PQQ']]\n",
      "['Biotin', ['BTI', 'BTN', 'BYT', 'DTB', 'Y7Y']]\n",
      "['Lipoic acid', ['LPA', 'LPB']]\n",
      "['Ubiquinone', ['4YP', 'AT5', 'UQ1', 'UQ2', 'UQ5', 'UQ6']]\n",
      "['Glutathione', ['0HG', '0HH', '1JO', '1JP', '1R4', '3GC', '48T', '5AU', 'ABY', 'AHE', 'ATA', 'BOB', 'BYG', 'EPY', 'ESG', 'GBI', 'GBP', 'GBX', 'GDN', 'GDS', 'GF5', 'GGC', 'GIP', 'GNB', 'GPR', 'GPS', 'GS8', 'GSB', 'GSF', 'GSH', 'GSM', 'GSN', 'GSO', 'GTB', 'GTD', 'GTS', 'GTX', 'GTY', 'GVX', 'HAG', 'IBG', 'ICY', 'JM2', 'JM5', 'JM7', 'L9X', 'LEE', 'LZ6', 'RGE', 'TGG', 'TS5', 'VWW', 'ZBF']]\n",
      "['Orthoquinone residues (LTQ, TTQ, CTQ)', ['0AF', 'TOQ', 'TQQ', 'TRQ']]\n",
      "['S-adenosylmethionine', ['0UM', '0XU', '0Y0', '0Y1', '0Y2', '36A', '37H', '4IK', '62X', '6NR', '76H', '76J', '76K', '76L', '76M', 'EEM', 'K15', 'SA8', 'SAH', 'SAM', 'SFG', 'SMM', 'SX0', 'TT8']]\n",
      "['Thiamine diphosphate', ['1TP', '1U0', '2TP', '5GY', '8EF', '8EL', '8EO', '8FL', '8PA', 'D7K', 'EN0', 'HTL', 'M6T', 'N1T', 'N3T', 'R1T', 'S1T', 'T5X', 'T6F', 'TD6', 'TD7', 'TD8', 'TD9', 'TDK', 'TDL', 'TDM', 'TDP', 'TDW', 'THD', 'THV', 'THW', 'THY', 'TP8', 'TPP', 'TPU', 'TPW', 'TZD', 'WWF']]\n",
      "[\"Pyridoxal 5'-phosphate\", ['MPL', 'NOP', 'NPL', 'PDP', 'PLP', 'PLR', 'PMP', 'PXP', 'PZP', 'UAH']]\n",
      "['Topaquinone', ['1TY', '2TY', 'AGQ', 'G27', 'HCC', 'P2Q', 'P3Q', 'TPQ', 'TYQ', 'TYY']]\n"
     ]
    }
   ],
   "source": [
    "# Retrieve Chemical component code from PDB chemical component dictionary of each Coenzyme class\n",
    "for cof in cof_list:\n",
    "    print(save_cofactor_information1(cof))"
   ]
  },
  {
   "cell_type": "markdown",
   "metadata": {},
   "source": [
    "## Loops for retrieving PDB codes per coenzyme class"
   ]
  },
  {
   "cell_type": "code",
   "execution_count": 22,
   "metadata": {},
   "outputs": [],
   "source": [
    "def get_PDB_entries_associated_cofactor(cofId):\n",
    "    URL_base = \"https://www.ebi.ac.uk/pdbe/api/pdb/compound/in_pdb\"\n",
    "    query = URL_base + \"/\" + cofId\n",
    "    response = requests.get(query)\n",
    "    if response.status_code == 200:\n",
    "        return response.json()\n",
    "    else:\n",
    "        print(\"No data available\")\n",
    "        return None"
   ]
  },
  {
   "cell_type": "code",
   "execution_count": 23,
   "metadata": {},
   "outputs": [],
   "source": [
    " def save_PDB_cofactors1(cofId, filename):\n",
    "    response = get_PDB_entries_associated_cofactor(cofId)\n",
    "    with open(filename, \"a\") as file:\n",
    "        print(response[cofId], sep=\",\", file=file)\n",
    "    return None\n",
    "    "
   ]
  },
  {
   "cell_type": "code",
   "execution_count": null,
   "metadata": {},
   "outputs": [],
   "source": [
    "# Run PDBe exports per coenzyme class\n",
    "# 'save_cofactor_information1(cof)' -> returns [class_name, [CCD codes...]]\n",
    "# 'save_PDB_cofactors1(cofId, filename)' -> appends PDB entries for one CCD to a file\n",
    "# one CSV-like file per coenzyme class under OUTPUT_DIR / \"cofactors_by_class\".\n",
    "from pathlib import Path\n",
    "import re\n",
    "\n",
    "OUT_DIR_CLASSES = OUTPUT_DIR / \"cofactors_by_class\"\n",
    "OUT_DIR_CLASSES.mkdir(parents=True, exist_ok=True)\n",
    "\n",
    "# If you already defined `cof_list` earlier, this will use it. Otherwise, this default is applied.\n",
    "try:\n",
    "    cof_list\n",
    "except NameError:\n",
    "    cof_list = [\n",
    "        \"Flavin Mononucleotide\",\n",
    "        \"Flavin Adenine Dinucleotide\",\n",
    "        \"Nicotinamide Adenine Dinucleotide\",\n",
    "        \"Coenzyme A\"\n",
    "    ]\n",
    "\n",
    "def _slugify(name: str) -> str:\n",
    "    return re.sub(r'[^A-Za-z0-9]+', '_', name.strip()).strip('_')\n",
    "\n",
    "for cof_class in cof_list:\n",
    "    cls_name, ccd_codes = save_cofactor_information1(cof_class)\n",
    "    if not ccd_codes:\n",
    "        print(f\"[WARN] No CCD codes found for class: {cof_class}\")\n",
    "        continue\n",
    "    out_path = OUT_DIR_CLASSES / f\"{_slugify(cof_class)}.csv\"\n",
    "    # Start fresh file and add a lightweight header/comment\n",
    "    with open(out_path, \"w\") as f:\n",
    "        f.write(\"# PDB codes per coenzyme class\\n\")\n",
    "        f.write(\"pdb_entries_for_all_codes_by_class\\n\")\n",
    "    # Append PDB entries list for each code\n",
    "    for code in ccd_codes:\n",
    "        try:\n",
    "            save_PDB_cofactors1(code, out_path)  # appends entries for this code\n",
    "        except Exception as e:\n",
    "            print(f\"[ERROR] {cof_class} / {code}: {e}\")\n",
    "    print(f\"[OK] Wrote: {out_path}\")\n"
   ]
  },
  {
   "cell_type": "markdown",
   "metadata": {},
   "source": [
    "## Include \"ATP\" as an additional coenzyme class"
   ]
  },
  {
   "cell_type": "code",
   "execution_count": 26,
   "metadata": {},
   "outputs": [],
   "source": [
    "save_PDB_cofactors1(\"ATP\", \"ATP_codes.csv\")"
   ]
  }
 ],
 "metadata": {
  "kernelspec": {
   "display_name": "Python [conda env:base] *",
   "language": "python",
   "name": "conda-base-py"
  },
  "language_info": {
   "codemirror_mode": {
    "name": "ipython",
    "version": 3
   },
   "file_extension": ".py",
   "mimetype": "text/x-python",
   "name": "python",
   "nbconvert_exporter": "python",
   "pygments_lexer": "ipython3",
   "version": "3.12.7"
  }
 },
 "nbformat": 4,
 "nbformat_minor": 4
}
